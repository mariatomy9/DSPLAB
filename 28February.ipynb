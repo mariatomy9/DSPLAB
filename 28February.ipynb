{
  "nbformat": 4,
  "nbformat_minor": 0,
  "metadata": {
    "colab": {
      "name": "28February.ipynb",
      "provenance": [],
      "collapsed_sections": [],
      "authorship_tag": "ABX9TyNfNZROVxTqXUplcttKVAN1",
      "include_colab_link": true
    },
    "kernelspec": {
      "name": "python3",
      "display_name": "Python 3"
    },
    "language_info": {
      "name": "python"
    }
  },
  "cells": [
    {
      "cell_type": "markdown",
      "metadata": {
        "id": "view-in-github",
        "colab_type": "text"
      },
      "source": [
        "<a href=\"https://colab.research.google.com/github/mariatomy9/DSPLAB/blob/master/28February.ipynb\" target=\"_parent\"><img src=\"https://colab.research.google.com/assets/colab-badge.svg\" alt=\"Open In Colab\"/></a>"
      ]
    },
    {
      "cell_type": "code",
      "execution_count": null,
      "metadata": {
        "id": "UyGiQ3YEGm_W"
      },
      "outputs": [],
      "source": [
        "import numpy as np\n",
        "import matplotlib.pyplot as plt\n",
        "from scipy.fft import fft,ifft"
      ]
    },
    {
      "cell_type": "code",
      "source": [
        "1.\n",
        "\n",
        "#linear convolution\n",
        "def lin_convolution(x,h):\n",
        "    M= len(x)\n",
        "    N = len(h)\n",
        "       \n",
        "    if M!=N:\n",
        "        if M>N:\n",
        "            h= np.append(h,np.zeros(M-N))   \n",
        "        else :\n",
        "            x = np.append(x,np.zeros(N-M))\n",
        "    K= max(N,M)\n",
        "    y= np.zeros(N+M-1)\n",
        "        \n",
        "    for i in range(len(y)):\n",
        "      if i<M:\n",
        "        for j in range(i+1):\n",
        "              y[i]+=x[j]*h[i-j]\n",
        "      elif i>=M:\n",
        "        for j in range(K-1,i-K,-1):\n",
        "              y[i]+=x[j]*h[i-j]\n",
        "        \n",
        "    return y[:N+M-1]\n",
        "\n",
        "x=np.array([1,2,3])\n",
        "h = np.array([1,1,1,1])\n",
        "print(lin_convolution(x,h))\n",
        "plt.stem(lin_convolution(x,h), use_line_collection = True)\n",
        "plt.title(\"linear convolution\")\n",
        "plt.grid(True)\n",
        "plt.show()\n",
        "\n",
        "\n"
      ],
      "metadata": {
        "colab": {
          "base_uri": "https://localhost:8080/",
          "height": 299
        },
        "id": "LKnEKkyRHSlV",
        "outputId": "e3ad0bc0-e9d9-4cd9-b436-d81bf500348f"
      },
      "execution_count": null,
      "outputs": [
        {
          "output_type": "stream",
          "name": "stdout",
          "text": [
            "[1. 3. 6. 6. 5. 3.]\n"
          ]
        },
        {
          "output_type": "display_data",
          "data": {
            "text/plain": [
              "<Figure size 432x288 with 1 Axes>"
            ],
            "image/png": "[encoded data removed]"
          },
          "metadata": {
            "needs_background": "light"
          }
        }
      ]
    },
    {
      "cell_type": "code",
      "source": [
        "2.\n",
        "h=[2,1,0.5]\n",
        "X=list(map(complex,input().split(' ')))\n",
        "x=np.array(X)\n",
        "print(x)\n",
        "z=np.convolve(np.convolve(np.convolve(x,h),h),h)\n",
        "print(z)"
      ],
      "metadata": {
        "id": "zP1QJE5tHSyn",
        "colab": {
          "base_uri": "https://localhost:8080/"
        },
        "outputId": "9a8eadce-d42b-4bba-9b49-37603127c8a0"
      },
      "execution_count": null,
      "outputs": [
        {
          "output_type": "stream",
          "name": "stdout",
          "text": [
            "1 1+1j 1\n",
            "[1.+0.j 1.+1.j 1.+0.j]\n",
            "[ 8.    +0.j    20.    +8.j    32.   +12.j    31.   +12.j\n",
            " 22.    +7.j    10.75  +3.j     3.875 +0.75j   0.875 +0.125j\n",
            "  0.125 +0.j   ]\n"
          ]
        }
      ]
    },
    {
      "cell_type": "code",
      "source": [
        "3.\n",
        "import numpy as np\n",
        "import matplotlib.pyplot as plt\n",
        "from scipy.fft import fft, ifft\n",
        "\n",
        "def sinc_filter(M, fc):\n",
        "\t\"\"\"Return an M + 1 point symmetric point sinc kernel with normalised cut-off \n",
        "    \t\tfrequency fc 0->0.5.\"\"\"\n",
        "\tif M%2:\n",
        "\t\traise Exception('M must be odd')\n",
        "\treturn np.sinc(2*fc*(np.arange(M + 1) - M/2))\n",
        "\n",
        "def hamming(M,a):\n",
        "\t\"\"\"Return an M + 1 point symmetric hamming window.\"\"\"\n",
        "\tif M%2:\n",
        "\t\traise Exception('M must be odd')\n",
        "\treturn a - (1-a)*np.cos(2*np.pi*np.arange(M + 1)/M)\n",
        "\n",
        "def build_filter(M, fc, a, window=None):\n",
        "\t\"\"\"Construct filter using the windowing method for filter parameters M\n",
        "\tnumber of taps, cut-off frequency fc and window. Window defaults to None \n",
        "\ti.e. a rectangular window.\"\"\"\n",
        "\tif window is None:\n",
        "\t\th = sinc_filter(M, fc)\n",
        "\telse:\n",
        "\t\th = sinc_filter(M, fc)*window(M,a)\n",
        "\treturn h/h.sum()\n",
        "\n",
        "\n",
        "ts = 0.01 # i.e. sampling frequency is 1/ts = 100Hz\n",
        "sr = 1/ts\n",
        "x = np.arange(-10, 10, ts)\n",
        "signal = (np.sin(20*np.pi*x) + np.cos(30*np.pi*x) + \n",
        "                np.sin(80*np.pi*x))\n",
        "\n",
        "#build up some filters\n",
        "#Low pass\n",
        "M = 100 #number of taps in filter\n",
        "fc = 0.2 \n",
        "a = 0.35 #also do for a=0.54\n",
        "ham_lp = build_filter(M, fc, a, window=hamming)\n",
        "y_ham = np.convolve(signal, ham_lp)\n",
        "\n",
        "X = fft(signal)\n",
        "Nx = len(X)\n",
        "n = np.arange(Nx)\n",
        "T = Nx/sr\n",
        "freq = n/T \n",
        "\n",
        "plt.figure(figsize = (12, 6))\n",
        "plt.subplot(121)\n",
        "plt.stem(freq, abs(X), 'b', \\\n",
        "         markerfmt=\" \", basefmt=\"-b\")\n",
        "plt.xlabel('Freq (Hz)')\n",
        "plt.ylabel('FFT Amplitude of Input |X(freq)|')\n",
        "\n",
        "Y=fft(y_ham)\n",
        "Ny = len(Y)\n",
        "n = np.arange(Ny)\n",
        "T = Ny/sr\n",
        "freq = n/T \n",
        "\n",
        "plt.subplot(122)\n",
        "plt.stem(freq, abs(Y), 'b', \\\n",
        "         markerfmt=\" \", basefmt=\"-b\")\n",
        "plt.xlabel('Freq (Hz)')\n",
        "plt.ylabel('FFT Amplitude of Output |Y(freq)|')\n",
        "plt.tight_layout()\n",
        "plt.show()"
      ],
      "metadata": {
        "id": "JjLrfzsgWbju",
        "colab": {
          "base_uri": "https://localhost:8080/",
          "height": 496
        },
        "outputId": "ffe0cb9d-de53-4e1a-ff9b-cfa12e9e3ae1"
      },
      "execution_count": 2,
      "outputs": [
        {
          "output_type": "stream",
          "name": "stderr",
          "text": [
            "/usr/local/lib/python3.7/dist-packages/ipykernel_launcher.py:52: UserWarning: In Matplotlib 3.3 individual lines on a stem plot will be added as a LineCollection instead of individual lines. This significantly improves the performance of a stem plot. To remove this warning and switch to the new behaviour, set the \"use_line_collection\" keyword argument to True.\n",
            "/usr/local/lib/python3.7/dist-packages/ipykernel_launcher.py:63: UserWarning: In Matplotlib 3.3 individual lines on a stem plot will be added as a LineCollection instead of individual lines. This significantly improves the performance of a stem plot. To remove this warning and switch to the new behaviour, set the \"use_line_collection\" keyword argument to True.\n"
          ]
        },
        {
          "output_type": "display_data",
          "data": {
            "text/plain": [
              "<Figure size 864x432 with 2 Axes>"
            ],
            "image/png": "[encoded data removed]"
          },
          "metadata": {
            "needs_background": "light"
          }
        }
      ]
    },
    {
      "cell_type": "code",
      "source": [
        ""
      ],
      "metadata": {
        "id": "4xT7X1SgWW7k"
      },
      "execution_count": null,
      "outputs": []
    },
    {
      "cell_type": "code",
      "source": [
        "4.\n",
        "#correlation\n",
        "import numpy as np\n",
        "import matplotlib.pyplot as plt\n",
        "def correlation(x,h):\n",
        "    M= len(x)\n",
        "    N = len(h)\n",
        "       \n",
        "    if M!=N:\n",
        "        if M>N:\n",
        "            h= np.append(h,np.zeros(M-N))   \n",
        "        else :\n",
        "            x = np.append(x,np.zeros(N-M))\n",
        "    K= max(N,M)\n",
        "    y= np.zeros(len(x)+len(h)-1)\n",
        "    h= h[::-1]\n",
        "    \n",
        "        \n",
        "    for i in range(len(y)):\n",
        "      if i<M:\n",
        "        for j in range(i+1):\n",
        "              y[i]+=x[j]*h[i-j]\n",
        "      elif i>=M:\n",
        "        for j in range(K-1,i-K,-1):\n",
        "              y[i]+=x[j]*h[i-j]\n",
        "              \n",
        "    if len(h)>N or len(x)>M:\n",
        "      return y[(abs(N-M))::]\n",
        "    else:\n",
        "      return y\n",
        "\n",
        "x=np.array([3,2,1,1])\n",
        "h = np.array([1,-1,1])\n",
        "print(correlation(x,h))\n",
        "plt.stem(correlation(x,h), use_line_collection = True)\n",
        "plt.title(\"correlation\")\n",
        "plt.grid(True)\n",
        "\n",
        "plt.show()\n"
      ],
      "metadata": {
        "id": "t0dXszZmHSvJ",
        "colab": {
          "base_uri": "https://localhost:8080/",
          "height": 299
        },
        "outputId": "91847cec-b0d3-4469-e34c-e230991e8e17"
      },
      "execution_count": null,
      "outputs": [
        {
          "output_type": "stream",
          "name": "stdout",
          "text": [
            "[ 3. -1.  2.  2.  0.  1.]\n"
          ]
        },
        {
          "output_type": "display_data",
          "data": {
            "text/plain": [
              "<Figure size 432x288 with 1 Axes>"
            ],
            "image/png": "[encoded data removed]"
          },
          "metadata": {
            "needs_background": "light"
          }
        }
      ]
    },
    {
      "cell_type": "code",
      "source": [
        "5.\n",
        "import numpy as np\n",
        "import matplotlib.pyplot as plt\n",
        "from scipy.fft import fft, ifft\n",
        "\n",
        "def sinc_filter(M, fc):\n",
        "  \"\"\"Return an M + 1 point symmetric point sinc kernel with normalised cut-off\n",
        "  frequency fc 0->0.5.\"\"\"\n",
        "  if M%2:\n",
        "    raise Exception('M must be odd')\n",
        "  return np.sinc(2*fc*(np.arange(M + 1) - M/2))\n",
        "\n",
        "def hamming(M):\n",
        "  \"\"\"Return an M + 1 point symmetric hamming window.\"\"\"\n",
        "  if M%2:\n",
        "    raise Exception('M must be odd')\n",
        "  return 0.54 - 0.46*np.cos(2*np.pi*np.arange(M + 1)/M)\n",
        "\n",
        "def build_filter(M, fc, window=None):\n",
        "\t\"\"\"Construct filter using the windowing method for filter parameters M\n",
        "\tnumber of taps, cut-off frequency fc and window. Window defaults to None \n",
        "\ti.e. a rectangular window.\"\"\"\n",
        "\tif window is None:\n",
        "\t\th = sinc_filter(M, fc)\n",
        "\telse:\n",
        "\t\th = sinc_filter(M, fc)*window(M)\n",
        "\treturn h/h.sum()\n",
        "\n",
        "\n",
        "\n",
        "ts = 200 \n",
        "sr = 1/ts\n",
        "x = np.arange(-10, 10, ts)\n",
        "signal = np.sin(20*np.pi*x) + np.cos(30*np.pi*x) + np.sin(80*np.pi*x)\n",
        "\n",
        "#build up some filters\n",
        "#Low pass\n",
        "M = 50 #do for M=80 and 100\n",
        "fc = 50 \n",
        "ham_lp = build_filter(M, fc, window=hamming)\n",
        "y_ham = np.convolve(signal, ham_lp)\n",
        "\n",
        "X = fft(signal)\n",
        "Nx = len(X)\n",
        "n = np.arange(Nx)\n",
        "T = Nx/sr\n",
        "freq = n/T \n",
        "\n",
        "plt.figure(figsize = (12, 6))\n",
        "plt.subplot(121)\n",
        "plt.stem(freq, abs(X), 'b', \\\n",
        "         markerfmt=\" \", basefmt=\"-b\")\n",
        "plt.xlabel('Freq (Hz)')\n",
        "plt.ylabel('FFT Amplitude of Input |X(freq)|')\n",
        "\n",
        "Y=fft(y_ham)\n",
        "Ny = len(Y)\n",
        "n = np.arange(Ny)\n",
        "T = Ny/sr\n",
        "freq = n/T \n",
        "\n",
        "plt.subplot(122)\n",
        "plt.stem(freq, abs(Y), 'b', \\\n",
        "         markerfmt=\" \", basefmt=\"-b\")\n",
        "plt.xlabel('Freq (Hz)')\n",
        "plt.ylabel('FFT Amplitude of Output |Y(freq)|')\n",
        "plt.tight_layout()\n",
        "plt.show()"
      ],
      "metadata": {
        "colab": {
          "base_uri": "https://localhost:8080/",
          "height": 496
        },
        "id": "gSu6HtIVLIA9",
        "outputId": "1df00921-dc39-4e7a-8582-95188547feda"
      },
      "execution_count": 4,
      "outputs": [
        {
          "output_type": "stream",
          "name": "stderr",
          "text": [
            "/usr/local/lib/python3.7/dist-packages/ipykernel_launcher.py:51: UserWarning: In Matplotlib 3.3 individual lines on a stem plot will be added as a LineCollection instead of individual lines. This significantly improves the performance of a stem plot. To remove this warning and switch to the new behaviour, set the \"use_line_collection\" keyword argument to True.\n",
            "/usr/local/lib/python3.7/dist-packages/ipykernel_launcher.py:62: UserWarning: In Matplotlib 3.3 individual lines on a stem plot will be added as a LineCollection instead of individual lines. This significantly improves the performance of a stem plot. To remove this warning and switch to the new behaviour, set the \"use_line_collection\" keyword argument to True.\n"
          ]
        },
        {
          "output_type": "display_data",
          "data": {
            "text/plain": [
              "<Figure size 864x432 with 2 Axes>"
            ],
            "image/png": "[encoded data removed]"
          },
          "metadata": {
            "needs_background": "light"
          }
        }
      ]
    },
    {
      "cell_type": "code",
      "source": [
        "6.\n",
        "def dft(arr):\n",
        "  N=len(arr)\n",
        "  X=np.zeros(N,dtype=complex)\n",
        "  W=np.exp((-1j*2*np.pi)/N)\n",
        "  for k in np.arange(N):\n",
        "      for n in np.arange(N):\n",
        "          X[k]+=arr[n]*W**(n*k)\n",
        "  return np.round(X)\n",
        "# sampling rate\n",
        "fs = 200\n",
        "# sampling interval\n",
        "ts = 1.0/fs\n",
        "t = np.arange(0,1,ts)\n",
        "\n",
        "freq = 1.\n",
        "x = 2*np.sin(20*np.pi*freq*t)+ np.cos(40*np.pi*freq*t)+np.cos(60*np.pi*freq*t)+0.5*np.cos(80*np.pi*freq*t)\n",
        "\n",
        "\n",
        "plt.figure(figsize = (8, 6))\n",
        "plt.plot(t, x, 'r')\n",
        "plt.ylabel('Amplitude')\n",
        "plt.show()\n",
        "\n",
        "# Compute FFT of x\n",
        "X=dft(x)\n",
        "\n",
        "# calculate the frequency\n",
        "N = len(X)\n",
        "k = np.arange(N)\n",
        "T = N/fs\n",
        "freq = k/T  \n",
        "#magnitude plot\n",
        "plt.figure(figsize = (12, 6))\n",
        "plt.subplot(121)\n",
        "plt.stem(freq, abs(X), 'b',markerfmt=\" \")#, basefmt=\"-b\")\n",
        "plt.xlabel('Freq (Hz)')\n",
        "plt.ylabel('FFT Amplitude |X(freq)|')\n",
        "\n",
        "#phase plot\n",
        "plt.figure(figsize = (12,6))\n",
        "plt.subplot(121)\n",
        "plt.stem(freq,np.angle(X), 'b',markerfmt=\" \")#, basefmt=\"-b\")\n",
        "plt.xlabel('Freq (Hz)')\n",
        "plt.ylabel('FFT Phase |X(freq)|')\n",
        "\n",
        "plt.show()"
      ],
      "metadata": {
        "colab": {
          "base_uri": "https://localhost:8080/",
          "height": 1000
        },
        "id": "z2LRqs_ALIEN",
        "outputId": "0d6d9699-10e7-4165-caa6-00654013d019"
      },
      "execution_count": null,
      "outputs": [
        {
          "output_type": "display_data",
          "data": {
            "text/plain": [
              "<Figure size 576x432 with 1 Axes>"
            ],
            "image/png": "[encoded data removed]"
          },
          "metadata": {
            "needs_background": "light"
          }
        },
        {
          "output_type": "stream",
          "name": "stderr",
          "text": [
            "/usr/local/lib/python3.7/dist-packages/ipykernel_launcher.py:36: UserWarning: In Matplotlib 3.3 individual lines on a stem plot will be added as a LineCollection instead of individual lines. This significantly improves the performance of a stem plot. To remove this warning and switch to the new behaviour, set the \"use_line_collection\" keyword argument to True.\n",
            "/usr/local/lib/python3.7/dist-packages/ipykernel_launcher.py:43: UserWarning: In Matplotlib 3.3 individual lines on a stem plot will be added as a LineCollection instead of individual lines. This significantly improves the performance of a stem plot. To remove this warning and switch to the new behaviour, set the \"use_line_collection\" keyword argument to True.\n"
          ]
        },
        {
          "output_type": "display_data",
          "data": {
            "text/plain": [
              "<Figure size 864x432 with 1 Axes>"
            ],
            "image/png": "[encoded data removed]"
          },
          "metadata": {
            "needs_background": "light"
          }
        },
        {
          "output_type": "display_data",
          "data": {
            "text/plain": [
              "<Figure size 864x432 with 1 Axes>"
            ],
            "image/png": "[encoded data removed]"
          },
          "metadata": {
            "needs_background": "light"
          }
        }
      ]
    },
    {
      "cell_type": "code",
      "source": [
        "7.\n",
        "def dft(arr):\n",
        "  N=len(arr)\n",
        "  X=np.zeros(N,dtype=complex)\n",
        "  W=np.exp((-1j*2*np.pi)/N)\n",
        "  for k in np.arange(N):\n",
        "      for n in np.arange(N):\n",
        "          X[k]+=arr[n]*W**(n*k)\n",
        "  return np.round(X)\n",
        "# sampling rate\n",
        "fs = 128\n",
        "# sampling interval\n",
        "ts = 1.0/fs\n",
        "t = np.arange(0,1,ts)\n",
        "\n",
        "freq = 1.\n",
        "x = 3*np.sin(2*np.pi*freq*t)\n",
        "\n",
        "freq = 4\n",
        "x += np.cos(2*np.pi*freq*t)\n",
        "\n",
        "freq = 7\n",
        "x += 0.5* np.cos(2*np.pi*freq*t)\n",
        "\n",
        "plt.figure(figsize = (8, 6))\n",
        "plt.plot(t, x, 'r')\n",
        "plt.ylabel('Amplitude')\n",
        "plt.show()\n",
        "\n",
        "y=x*np.cos(32*np.pi*t)\n",
        "# Compute FFT of x\n",
        "Y=dft(y)\n",
        "\n",
        "# calculate the frequency\n",
        "N = len(Y)\n",
        "k = np.arange(N)\n",
        "T = N/fs\n",
        "freq = k/T  \n",
        "\n",
        "\n",
        "# Get the one-sided specturm\n",
        "n_oneside = N//2\n",
        "# get the one side frequency\n",
        "f_oneside = freq[:n_oneside]\n",
        "\n",
        "# normalize the amplitude\n",
        "Y_oneside =Y[:n_oneside]/n_oneside\n",
        "\n",
        "plt.figure(figsize = (8, 6))\n",
        "plt.stem(f_oneside, abs(Y_oneside), 'b',markerfmt=\" \", basefmt=\"-b\")\n",
        "plt.xlabel('Freq (Hz)')\n",
        "plt.ylabel('Normalized FFT Amplitude |X(freq)|')\n",
        "\n",
        "plt.show()"
      ],
      "metadata": {
        "colab": {
          "base_uri": "https://localhost:8080/",
          "height": 783
        },
        "id": "Qd6tzpSjLIN9",
        "outputId": "f6ca4ddb-e212-4e14-f0dd-46eb86ae5ddc"
      },
      "execution_count": null,
      "outputs": [
        {
          "output_type": "display_data",
          "data": {
            "text/plain": [
              "<Figure size 576x432 with 1 Axes>"
            ],
            "image/png": "[encoded data removed]"
          },
          "metadata": {
            "needs_background": "light"
          }
        },
        {
          "output_type": "stream",
          "name": "stderr",
          "text": [
            "/usr/local/lib/python3.7/dist-packages/ipykernel_launcher.py:50: UserWarning: In Matplotlib 3.3 individual lines on a stem plot will be added as a LineCollection instead of individual lines. This significantly improves the performance of a stem plot. To remove this warning and switch to the new behaviour, set the \"use_line_collection\" keyword argument to True.\n"
          ]
        },
        {
          "output_type": "display_data",
          "data": {
            "text/plain": [
              "<Figure size 576x432 with 1 Axes>"
            ],
            "image/png": "[encoded data removed]"
          },
          "metadata": {
            "needs_background": "light"
          }
        }
      ]
    },
    {
      "cell_type": "code",
      "source": [
        "8.\n",
        "def circular_convolution(x, h):\n",
        "    M= len(x)\n",
        "    N = len(h)\n",
        "       \n",
        "    if M!=N:\n",
        "        if M>N:\n",
        "            h= np.append(h,np.zeros(M-N))   \n",
        "        else :\n",
        "            x = np.append(x,np.zeros(N-M))\n",
        "    u=idft(np.multiply(dft(x),dft(h)))\n",
        "        \n",
        "    return u\n",
        "\n",
        "def dft(arr):\n",
        "  N=len(arr)\n",
        "  X=np.zeros(N,dtype=complex)\n",
        "  W=np.exp((-1j*2*np.pi)/N)\n",
        "  for k in np.arange(N):\n",
        "      for n in np.arange(N):\n",
        "          X[k]+=arr[n]*W**(n*k)\n",
        "  return np.round(X)\n",
        "\n",
        "def idft(arr1):\n",
        "    N=len(arr1)\n",
        "    X=np.zeros(N,dtype=complex)\n",
        "    W=np.exp((1j*2*np.pi)/N)\n",
        "    for k in np.arange(N):\n",
        "        for n in np.arange(N):\n",
        "            X[k]+=(arr1[n]*W**(n*k))/N\n",
        "    return np.round(X)\n",
        "\n",
        "x1=[1,2,3,4]\n",
        "x2=[1,-1]\n",
        "print(circular_convolution(x1,x2))\n"
      ],
      "metadata": {
        "id": "f1YEZgfEHSse",
        "colab": {
          "base_uri": "https://localhost:8080/"
        },
        "outputId": "4ea962c6-26a4-41f6-cd4d-510993df40e7"
      },
      "execution_count": null,
      "outputs": [
        {
          "output_type": "stream",
          "name": "stdout",
          "text": [
            "[-3.+0.j  1.-0.j  1.-0.j  1.-0.j]\n"
          ]
        }
      ]
    },
    {
      "cell_type": "code",
      "source": [
        "9.\n",
        "def dft(arr):\n",
        "  N=len(arr)\n",
        "  X=np.zeros(N,dtype=complex)\n",
        "  W=np.exp((-1j*2*np.pi)/N)\n",
        "  for k in np.arange(N):\n",
        "      for n in np.arange(N):\n",
        "          X[k]+=arr[n]*W**(n*k)\n",
        "  return np.round(X)\n",
        "x=[1,1+1j,-1,1-1j]\n",
        "e=np.dot(x,x)\n",
        "\n",
        "print(e)\n",
        "print((np.dot(dft(x),dft(x)))/(len(x)*3))"
      ],
      "metadata": {
        "id": "hIpL2Q8dHSoY",
        "colab": {
          "base_uri": "https://localhost:8080/"
        },
        "outputId": "b30f1775-9c9d-4d6a-b575-b9d139e9e578"
      },
      "execution_count": null,
      "outputs": [
        {
          "output_type": "stream",
          "name": "stdout",
          "text": [
            "(2+0j)\n",
            "(2+0j)\n"
          ]
        }
      ]
    },
    {
      "cell_type": "code",
      "source": [
        "#Overlap-save method\n",
        "import numpy as np\n",
        "from scipy.fft import fft, ifft\n",
        "\n",
        "x=[3,-1,0,1,3,2,0,1,2,1]\n",
        "T=len(x)\n",
        "h=[1,1,1]\n",
        "M=len(h)      \n",
        "y=[]\n",
        "\n",
        "h=np.append(h,np.zeros(M-1))\n",
        "x=np.append(x,np.zeros(M-T%M))\n",
        "\n",
        "b=int(np.ceil(T/M)) #Total No of blocks\n",
        "\n",
        "for i in np.arange(b):\n",
        "  if i==0:\n",
        "    xi=np.append(np.zeros(M-1),x[0:M])\n",
        "  else:\n",
        "    xi=x[i*M-(M-1):(i+1)*M]\n",
        "\n",
        "  yn=ifft(fft(xi)*fft(h)) #finding convolution\n",
        "  yi=yn[M-1:2*M-1]\n",
        "  y=np.append(y,yi)\n",
        "\n",
        "if len(y)>len(x):\n",
        "  y = y[:len(x)] #discarding extra points if any\n",
        "print(\"By overlap save, x(n)*h(n)=\",np.real(y))"
      ],
      "metadata": {
        "colab": {
          "base_uri": "https://localhost:8080/"
        },
        "id": "GPA0rOVKqLgb",
        "outputId": "cf9d633a-8871-4419-9280-ed2ac1d44f2f"
      },
      "execution_count": null,
      "outputs": [
        {
          "output_type": "stream",
          "name": "stdout",
          "text": [
            "By overlap save, x(n)*h(n)= [3. 2. 2. 0. 4. 6. 5. 3. 3. 4. 3. 1.]\n"
          ]
        }
      ]
    },
    {
      "cell_type": "code",
      "source": [
        "np.convolve([3,-1,0,1,3,2,0,1,2,1],[1,1,1])"
      ],
      "metadata": {
        "colab": {
          "base_uri": "https://localhost:8080/"
        },
        "id": "pHPDLiOfuN1a",
        "outputId": "59ce5e72-c8ec-4c86-e1c7-7d1b45598eff"
      },
      "execution_count": null,
      "outputs": [
        {
          "output_type": "execute_result",
          "data": {
            "text/plain": [
              "array([3, 2, 2, 0, 4, 6, 5, 3, 3, 4, 3, 1])"
            ]
          },
          "metadata": {},
          "execution_count": 9
        }
      ]
    },
    {
      "cell_type": "code",
      "source": [
        "#Overlap-add method\n",
        "import numpy as np\n",
        "from scipy.fft import fft, ifft\n",
        "\n",
        "x=[3,-1,0,1,3,2,0,1,2,1]\n",
        "T=len(x)\n",
        "h=[1,1,1]\n",
        "M=len(h)      \n",
        "\n",
        "\n",
        "h=np.append(h,np.zeros(M-1))\n",
        "x=np.append(x,np.zeros(M-T%M))\n",
        "\n",
        "b=int(np.ceil(T/M)) #Total No of blocks\n",
        "\n",
        "y=np.zeros(T+M+1,dtype=complex)\n",
        "\n",
        "for i in np.arange(b):\n",
        "  xi=x[i*M:(i+1)*M]\n",
        "  yn=np.append(xi,np.zeros(M-T%M))\n",
        "  y1=np.round(ifft(fft(yn)*fft(h)))#finding convolution\n",
        "  y[i*M:(i+1)*M+(M-T%M)]+=y1\n",
        "\n",
        "\n",
        "if len(y)>len(x):\n",
        "  y = y[:len(x)] #discarding extra points if any\n",
        "print('By overlap add, x(n)*h(n)=',np.real(y))\n",
        "\n"
      ],
      "metadata": {
        "id": "wN5XCMXCqQgc",
        "colab": {
          "base_uri": "https://localhost:8080/"
        },
        "outputId": "17bd3c32-8d76-4ddb-e00b-04b8785e6e6e"
      },
      "execution_count": null,
      "outputs": [
        {
          "output_type": "stream",
          "name": "stdout",
          "text": [
            "By overlap add, x(n)*h(n)= [3. 2. 2. 0. 4. 6. 5. 3. 3. 4. 3. 1.]\n"
          ]
        }
      ]
    },
    {
      "cell_type": "code",
      "source": [
        "12.\n",
        "'''\n",
        "#include <dsk6713.h>\n",
        "#include <dsk6713_led.h>\n",
        "#include <dsk6713_dip.h>\n",
        "void main()\n",
        "{\n",
        "/* Initialize the board support library, must be first BSL call */ DSK6713_init();\n",
        "\n",
        "   \t\t /* Initialize the LED and DIP switch modules of the BSL */\n",
        "    \t\tDSK6713_LED_init();\n",
        "    \t\tDSK6713_DIP_init();\n",
        "\n",
        "    \t\twhile(1)\n",
        "    \t\t{\n",
        "        \t\t/* Toggle LED #2 */\n",
        "        \t\tDSK6713_LED_toggle(2);\n",
        "\n",
        "/* Check DIP switch #3 and light LED #1 accordingly, */\n",
        "//0 = switch pressed \n",
        "        \t\tif (DSK6713_DIP_get(3) == 0)\n",
        "            \t\t/* Switch pressed, turn LED #3 on */\n",
        "            \t\t\tDSK6713_LED_on(1);\n",
        "        \t\telse\n",
        "            \t\t/* Switch not pressed, turn LED #3 off */\n",
        "            \t\t\tDSK6713_LED_off(1);\n",
        "\n",
        "        \t\t/* Spin in a software delay loop for about 200ms */\n",
        "        \t\tDSK6713_waitusec(200000);\n",
        "    \t\t}\n",
        "}\n",
        "'''"
      ],
      "metadata": {
        "id": "02LqEdqx2D2-"
      },
      "execution_count": null,
      "outputs": []
    },
    {
      "cell_type": "code",
      "source": [
        "13.\n",
        "'''\n",
        "#include <stdio.h>\n",
        "void conv(float *x, float *h, float *y, short l, short m);\n",
        "void main()\n",
        "{\n",
        "    float x[] = { 1, 2, 3, 4 };\n",
        "    float h[] = { 1, 1, 1 };\n",
        "    float y[6]; //length of y = L+M-1\n",
        "    short n;\n",
        "    conv(x, h, y, 4, 3);\n",
        "    for (n = 0; n < 6; n++)\n",
        "        printf(\"%.2f \", y[n]);\n",
        "}\n",
        "\n",
        "void conv(float *x, float *h, float *y, short l, short m)\n",
        "{\n",
        "    short k, kmin, kmax, n;\n",
        "    for (n = 0; n < l + m - 1; n++)\n",
        "    {\n",
        "        y[n] = 0;\n",
        "        kmin = (n > l - 1) ? n - l + 1 : 0;\n",
        "        kmax = (n > m - 1) ? m - 1 : n;\n",
        "        //printf(\"%d %d\\n\", kmin, kmax);\n",
        "        for (k = kmin; k <= kmax; k++)\n",
        "        {\n",
        "            y[n] = y[n] + h[k] * x[n - k];\n",
        "\n",
        "        }\n",
        "\n",
        "    }\n",
        "\n",
        "}\n",
        "'''"
      ],
      "metadata": {
        "id": "orPJmfGZ2cfk"
      },
      "execution_count": null,
      "outputs": []
    },
    {
      "cell_type": "code",
      "source": [
        "14\n",
        "'''\n",
        "#include <dsk6713.h>\n",
        "#include <dsk6713_led.h>\n",
        "#include <dsk6713_dip.h>\n",
        "void main()\n",
        "{\n",
        "/* Initialize the board support library, must be first BSL call */ DSK6713_init();\n",
        "\n",
        "   \t\t /* Initialize the LED and DIP switch modules of the BSL */\n",
        "    \t\tDSK6713_LED_init();\n",
        "    \t\tDSK6713_DIP_init();\n",
        "\n",
        "    \t\twhile(1)\n",
        "    \t\t{\n",
        "        \t\t/* Toggle LED #3 */\n",
        "        \t\tDSK6713_LED_toggle(3);\n",
        "\n",
        "/* Check DIP switch #2 and light LED #2 accordingly, */\n",
        "//0 = switch pressed \n",
        "        \t\tif (DSK6713_DIP_get(2) == 0)\n",
        "            \t\t/* Switch pressed, turn LED #3 on */\n",
        "            \t\t\tDSK6713_LED_on(2);\n",
        "        \t\telse\n",
        "            \t\t/* Switch not pressed, turn LED #3 off */\n",
        "            \t\t\tDSK6713_LED_off(2);\n",
        "\n",
        "        \t\t/* Spin in a software delay loop for about 200ms */\n",
        "        \t\tDSK6713_waitusec(200000);\n",
        "    \t\t}\n",
        "}\n",
        "'''"
      ],
      "metadata": {
        "id": "ATFIuWfO2csU"
      },
      "execution_count": null,
      "outputs": []
    }
  ]
}