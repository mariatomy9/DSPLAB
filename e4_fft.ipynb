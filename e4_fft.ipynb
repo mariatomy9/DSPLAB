{
 "cells": [
  {
   "cell_type": "code",
   "execution_count": 1,
   "metadata": {},
   "outputs": [],
   "source": [
    "import numpy as np\n",
    "import matplotlib.pyplot as plt\n"
   ]
  },
  {
   "cell_type": "code",
   "execution_count": 2,
   "metadata": {},
   "outputs": [
    {
     "data": {
      "text/plain": [
       "(1+0j)"
      ]
     },
     "execution_count": 2,
     "metadata": {},
     "output_type": "execute_result"
    }
   ],
   "source": [
    "def tf(k,N):\n",
    "    return np.exp((-1j*2*np.pi*k)/N)\n",
    "\n",
    "tf(0,4)"
   ]
  },
  {
   "cell_type": "code",
   "execution_count": 3,
   "metadata": {},
   "outputs": [],
   "source": [
    "def fft(x):\n",
    "    f = np.zeros_like(x,dtype=complex)\n",
    "    for i in np.arange(len(f)):\n",
    "        f[i]=fft_k(x,i) \n",
    "    return f\n",
    "\n",
    "def fft_k(x,k):\n",
    "    if(len(x)==1):\n",
    "         return x[0]\n",
    "    f= 0+0j\n",
    "    x_even = x[::2]\n",
    "    x_odd = x[1::2]\n",
    "    \n",
    "    fe= fft_k(x_even,k)\n",
    "    fo = fft_k(x_odd,k)\n",
    "    xfo= np.multiply(tf(k,len(x)) ,fo,dtype=complex)\n",
    "    f=np.add(fe,xfo,dtype=complex)\n",
    "    return f\n",
    "    "
   ]
  },
  {
   "cell_type": "code",
   "execution_count": 4,
   "metadata": {},
   "outputs": [
    {
     "name": "stderr",
     "output_type": "stream",
     "text": [
      "<ipython-input-4-de7b781cd9da>:21: UserWarning: In Matplotlib 3.3 individual lines on a stem plot will be added as a LineCollection instead of individual lines. This significantly improves the performance of a stem plot. To remove this warning and switch to the new behaviour, set the \"use_line_collection\" keyword argument to True.\n",
      "  plt.stem(freq,abs(res))\n"
     ]
    },
    {
     "data": {
      "image/png": "[encoded data removed]",
      "text/plain": [
       "<Figure size 432x288 with 1 Axes>"
      ]
     },
     "metadata": {
      "needs_background": "light"
     },
     "output_type": "display_data"
    },
    {
     "name": "stderr",
     "output_type": "stream",
     "text": [
      "<ipython-input-4-de7b781cd9da>:35: UserWarning: In Matplotlib 3.3 individual lines on a stem plot will be added as a LineCollection instead of individual lines. This significantly improves the performance of a stem plot. To remove this warning and switch to the new behaviour, set the \"use_line_collection\" keyword argument to True.\n",
      "  plt.stem(freq,abs(res))\n"
     ]
    },
    {
     "data": {
      "image/png": "[encoded data removed]",
      "text/plain": [
       "<Figure size 432x288 with 1 Axes>"
      ]
     },
     "metadata": {
      "needs_background": "light"
     },
     "output_type": "display_data"
    },
    {
     "data": {
      "text/plain": [
       "<Figure size 432x288 with 0 Axes>"
      ]
     },
     "metadata": {},
     "output_type": "display_data"
    }
   ],
   "source": [
    "slew_rate=128\n",
    "ts = 1/slew_rate\n",
    "t = np.arange(0,1,ts)\n",
    "freq = 1\n",
    "x = 3*np.sin(2*np.pi*freq*t)\n",
    "freq = 2\n",
    "x += np.sin(2*np.pi*freq*t)\n",
    "freq = 2\n",
    "x += 0.5*np.sin(2*np.pi*freq*t)\n",
    "freq = 60\n",
    "x += 0.5*np.sin(2*np.pi*freq*t)\n",
    "\n",
    "res = fft(x)\n",
    "\n",
    "\n",
    "\n",
    "T= len(x)/slew_rate\n",
    "freq = np.arange(len(x))/T\n",
    "\n",
    "\n",
    "plt.stem(freq,abs(res))\n",
    "plt.title(\"Fast-FT\")\n",
    "plt.ylabel(\"FFT(x)\")\n",
    "plt.xlabel(\"samples\")\n",
    "plt.grid(True)\n",
    "plt.show()\n",
    "plt.savefig(\"e4_fft.pdf\")\n",
    "\n",
    "\n",
    "\n",
    "T= (len(x)//2)/slew_rate\n",
    "freq = np.arange(len(x))/T\n",
    "\n",
    "\n",
    "plt.stem(freq,abs(res))\n",
    "plt.title(\"Fast-FT\")\n",
    "plt.ylabel(\"FFT(x)\")\n",
    "plt.xlabel(\"samples\")\n",
    "plt.grid(True)\n",
    "plt.show()\n",
    "plt.savefig(\"e4_fft.pdf\")\n"
   ]
  },
  {
   "cell_type": "code",
   "execution_count": null,
   "metadata": {},
   "outputs": [],
   "source": []
  }
 ],
 "metadata": {
  "interpreter": {
   "hash": "6b19870d387cdc17c9936e766bec66c1df206e4fd89a621c2d74d2ba4986625e"
  },
  "kernelspec": {
   "display_name": "Python 3.8.3 ('base')",
   "language": "python",
   "name": "python3"
  },
  "language_info": {
   "codemirror_mode": {
    "name": "ipython",
    "version": 3
   },
   "file_extension": ".py",
   "mimetype": "text/x-python",
   "name": "python",
   "nbconvert_exporter": "python",
   "pygments_lexer": "ipython3",
   "version": "3.8.3"
  },
  "orig_nbformat": 4
 },
 "nbformat": 4,
 "nbformat_minor": 2
}
