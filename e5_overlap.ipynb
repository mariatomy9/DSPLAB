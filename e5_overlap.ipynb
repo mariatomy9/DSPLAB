{
 "cells": [
  {
   "cell_type": "code",
   "execution_count": 13,
   "metadata": {},
   "outputs": [],
   "source": [
    "import numpy as np\n",
    "import matplotlib.pyplot as plt"
   ]
  },
  {
   "cell_type": "code",
   "execution_count": 14,
   "metadata": {},
   "outputs": [],
   "source": [
    "#circular convolution\n",
    "\n",
    "def circular_convolution(x,h):\n",
    "    y=[]\n",
    "    a=np.array(x[0])\n",
    "    b=np.array(x[:0:-1])\n",
    "    p=np.insert(b,0,a)\n",
    "    y.append(p)\n",
    "    for i in range(len(x)-1):\n",
    "        p = np.roll(p,1)\n",
    "        y.append(p)\n",
    "    u=[]\n",
    "    for t in y:\n",
    "        u.append(np.dot(t,h))\n",
    "    return u"
   ]
  },
  {
   "cell_type": "code",
   "execution_count": 15,
   "metadata": {},
   "outputs": [
    {
     "name": "stdout",
     "output_type": "stream",
     "text": [
      "[1. 3. 6. 9. 7. 4. 0. 0.]\n"
     ]
    }
   ],
   "source": [
    "#overlap add method\n",
    "      \n",
    "\n",
    "def overlap_add(x,h):\n",
    "\n",
    "    M=len(h)\n",
    "    L=M\n",
    "    N=L+M-1\n",
    "    x=np.append(x,np.zeros(M-1))\n",
    "    h=np.append(h,np.zeros(M-1))\n",
    "    j=np.array_split(x,M-1)\n",
    "    y=[]\n",
    "    for i in j:\n",
    "        i=np.append(i,np.zeros(M-1))\n",
    "        y.append(circular_convolution(i,h))\n",
    "\n",
    "    for i in range(len(y)-1):\n",
    "        u=np.array(y[i][0:M])\n",
    "        v=np.array(y[i][M:M+2])\n",
    "        e=np.array(y[i+1][0:M-1])\n",
    "        t= np.concatenate((u,np.add(v,e),np.array(y[i+1][M-1:M+2])),axis=0)\n",
    "\n",
    "    req_len=len(x)+M-1\n",
    "    if len(t)==req_len:\n",
    "        return t\n",
    "    elif len(t)>req_len:\n",
    "        index=[r for r in range(req_len+1,len(t))]\n",
    "        t=np.delete(t,index)\n",
    "        return t\n",
    "\n",
    "x=np.array([1,2,3,4])\n",
    "h=np.array([1,1,1])\n",
    "print(overlap_add(x,h))"
   ]
  },
  {
   "cell_type": "code",
   "execution_count": 17,
   "metadata": {},
   "outputs": [
    {
     "name": "stdout",
     "output_type": "stream",
     "text": [
      "[5. 3. 1. 2. 5. 9.]\n"
     ]
    }
   ],
   "source": [
    "#overlap save method\n",
    "def overlap_save(x,h):\n",
    "    M=len(h)\n",
    "    L=M\n",
    "    N=L+M-1\n",
    "    x=np.append(x,np.zeros(M-1))\n",
    "    h=np.append(h,np.zeros(M-1))\n",
    "    j=np.array_split(x,M-1)\n",
    "    j[0]=np.insert(j[0],0,np.zeros(M-1))\n",
    "\n",
    "    y=[]\n",
    "    for i in range(1,len(j)):\n",
    "        j[i]=np.insert(j[i],0,[x[i],x[i+1]])\n",
    "\n",
    "    index=[u for u in range(M,N)]    \n",
    "    for k in j:\n",
    "        y=np.append(y,np.delete(circular_convolution(k,h),index))\n",
    "        \n",
    "    req_len=len(x)+M-1\n",
    "    if len(y)<=req_len:\n",
    "        return y\n",
    "    elif len(y)>req_len:\n",
    "        index=[r for r in range(req_len+1,len(y))]\n",
    "        t=np.delete(y,index)\n",
    "        return y\n",
    "\n",
    "x=np.array([1,2,3,4])\n",
    "h=np.array([1,1,1])\n",
    "print(overlap_save(x,h))"
   ]
  },
  {
   "cell_type": "code",
   "execution_count": null,
   "metadata": {},
   "outputs": [],
   "source": []
  }
 ],
 "metadata": {
  "interpreter": {
   "hash": "6b19870d387cdc17c9936e766bec66c1df206e4fd89a621c2d74d2ba4986625e"
  },
  "kernelspec": {
   "display_name": "Python 3.8.3 ('base')",
   "language": "python",
   "name": "python3"
  },
  "language_info": {
   "codemirror_mode": {
    "name": "ipython",
    "version": 3
   },
   "file_extension": ".py",
   "mimetype": "text/x-python",
   "name": "python",
   "nbconvert_exporter": "python",
   "pygments_lexer": "ipython3",
   "version": "3.8.3"
  },
  "orig_nbformat": 4
 },
 "nbformat": 4,
 "nbformat_minor": 2
}
