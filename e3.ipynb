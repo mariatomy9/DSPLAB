{
 "cells": [
  {
   "cell_type": "code",
   "execution_count": 1,
   "metadata": {},
   "outputs": [],
   "source": [
    "import numpy as np\n",
    "import matplotlib.pyplot as plt"
   ]
  },
  {
   "cell_type": "code",
   "execution_count": 53,
   "metadata": {},
   "outputs": [],
   "source": [
    "#circular convolution\n",
    "def circular_convolution(x, h):\n",
    "    M= len(x)\n",
    "    N = len(h)\n",
    "       \n",
    "    if M!=N:\n",
    "        if M>N:\n",
    "            h= np.append(h,np.zeros(M-N))   \n",
    "        else :\n",
    "            x = np.append(x,np.zeros(N-M))\n",
    "    y=[]\n",
    "    a=np.array(x[0])\n",
    "    b=np.array(x[:0:-1])\n",
    "    p=np.insert(b,0,a)\n",
    "    y.append(p)\n",
    "    for i in range(len(x)-1):\n",
    "        p = np.roll(p,1)\n",
    "        y.append(p)\n",
    "    u=[]\n",
    "    for t in y:\n",
    "        u.append(np.dot(t,h))\n",
    "        \n",
    "    return u"
   ]
  },
  {
   "cell_type": "code",
   "execution_count": 55,
   "metadata": {},
   "outputs": [
    {
     "name": "stdout",
     "output_type": "stream",
     "text": [
      "[8.0, 6.0, 7.0, 9.0]\n"
     ]
    }
   ],
   "source": [
    "x=np.array([1,2,4,3])\n",
    "h = np.array([1,1,1])\n",
    "print(circular_convolution(x,h))"
   ]
  },
  {
   "cell_type": "code",
   "execution_count": null,
   "metadata": {},
   "outputs": [],
   "source": []
  }
 ],
 "metadata": {
  "interpreter": {
   "hash": "9bafc977814ade4112454db5aaadc29f0b7bb22c899dc2e157be47a1894f4a27"
  },
  "kernelspec": {
   "display_name": "Python 3.10.1 64-bit ('my-env': conda)",
   "language": "python",
   "name": "python3"
  },
  "language_info": {
   "codemirror_mode": {
    "name": "ipython",
    "version": 3
   },
   "file_extension": ".py",
   "mimetype": "text/x-python",
   "name": "python",
   "nbconvert_exporter": "python",
   "pygments_lexer": "ipython3",
   "version": "3.8.3"
  },
  "orig_nbformat": 4
 },
 "nbformat": 4,
 "nbformat_minor": 2
}
