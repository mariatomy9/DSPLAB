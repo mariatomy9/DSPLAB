{
  "nbformat": 4,
  "nbformat_minor": 0,
  "metadata": {
    "colab": {
      "name": "Overlap_save n overlap_add.ipynb",
      "provenance": [],
      "authorship_tag": "ABX9TyOOrwRXXECAK7SE9PXV8mpu",
      "include_colab_link": true
    },
    "kernelspec": {
      "name": "python3",
      "display_name": "Python 3"
    },
    "language_info": {
      "name": "python"
    }
  },
  "cells": [
    {
      "cell_type": "markdown",
      "metadata": {
        "id": "view-in-github",
        "colab_type": "text"
      },
      "source": [
        "<a href=\"https://colab.research.google.com/github/mariatomy9/DSPLAB/blob/master/Overlap_save_n_overlap_add.ipynb\" target=\"_parent\"><img src=\"https://colab.research.google.com/assets/colab-badge.svg\" alt=\"Open In Colab\"/></a>"
      ]
    },
    {
      "cell_type": "code",
      "execution_count": null,
      "metadata": {
        "id": "-gw7hwuyGqDv"
      },
      "outputs": [],
      "source": [
        "import numpy as np\n",
        "import matplotlib.pyplot as plt\n",
        "from scipy.fft import fft,ifft"
      ]
    },
    {
      "cell_type": "code",
      "source": [
        "#Overlap-save method\n",
        "import numpy as np\n",
        "from scipy.fft import fft, ifft\n",
        "\n",
        "x=[1, 0, 1, 1, 0, 1, 1, 0, 1, 0, 1, 1, 1]\n",
        "T=len(x)\n",
        "h=[2,1,0.5]\n",
        "M=len(h)      \n",
        "y=[]\n",
        "\n",
        "h=np.append(h,np.zeros(M-1))\n",
        "x=np.append(x,np.zeros(M-T%M))\n",
        "\n",
        "b=int(np.ceil(T/M)) #Total No of blocks\n",
        "\n",
        "for i in np.arange(b):\n",
        "  if i==0:\n",
        "    xi=np.append(np.zeros(M-1),x[0:M])\n",
        "  else:\n",
        "    xi=x[i*M-(M-1):(i+1)*M]\n",
        "\n",
        "  yn=ifft(fft(xi)*fft(h)) #finding convolution(Kindly use np.round if sequence is integer numbers only)\n",
        "  yi=yn[M-1:2*M-1]\n",
        "  y=np.append(y,yi)\n",
        "\n",
        "if len(y)>len(x):\n",
        "  y = y[:len(x)] #discarding extra points if any\n",
        "print(\"By overlap save, x(n)*h(n)=\",np.real(y))"
      ],
      "metadata": {
        "id": "gomQvyG4HRo6",
        "colab": {
          "base_uri": "https://localhost:8080/"
        },
        "outputId": "ac6c3481-a4bf-43f6-bc8e-0b5e0e9bde46"
      },
      "execution_count": 1,
      "outputs": [
        {
          "output_type": "stream",
          "name": "stdout",
          "text": [
            "By overlap save, x(n)*h(n)= [2.  1.  2.5 3.  1.5 2.5 3.  1.5 2.5 1.  2.5 3.  3.5 1.5 0.5]\n"
          ]
        }
      ]
    },
    {
      "cell_type": "code",
      "source": [
        "#Overlap-add method\n",
        "import numpy as np\n",
        "from scipy.fft import fft, ifft\n",
        "\n",
        "x=[1, 0, 1, 1, 0, 1, 1, 0, 1, 0, 1, 1, 1]\n",
        "T=len(x)\n",
        "h=[2,1,0.5]\n",
        "M=len(h)      \n",
        "\n",
        "\n",
        "h=np.append(h,np.zeros(M-1))\n",
        "x=np.append(x,np.zeros(M-T%M))\n",
        "\n",
        "b=int(np.ceil(T/M)) #Total No of blocks\n",
        "\n",
        "y=np.zeros(T+M+1,dtype=complex) #needed for overlap-add method\n",
        "\n",
        "for i in np.arange(b):\n",
        "  xi=x[i*M:(i+1)*M]\n",
        "  yn=np.append(xi,np.zeros(M-T%M))\n",
        "  y1=ifft(fft(yn)*fft(h))#finding convolution(Kindly use np.round if sequence is integer numbers only)\n",
        "\n",
        "  y[i*M:(i+1)*M+(M-T%M)]+=y1\n",
        "\n",
        "\n",
        "if len(y)>len(x):\n",
        "  y = y[:len(x)] #discarding extra points if any\n",
        "print('By overlap add, x(n)*h(n)=',np.real(y))\n"
      ],
      "metadata": {
        "id": "vfJb-vUIHRrn",
        "colab": {
          "base_uri": "https://localhost:8080/"
        },
        "outputId": "dc930d7d-81f8-449d-8695-a36f92830e54"
      },
      "execution_count": 3,
      "outputs": [
        {
          "output_type": "stream",
          "name": "stdout",
          "text": [
            "By overlap add, x(n)*h(n)= [2.  1.  2.5 3.  1.5 2.5 3.  1.5 2.5 1.  2.5 3.  3.5 1.5 0.5]\n"
          ]
        }
      ]
    },
    {
      "cell_type": "code",
      "source": [
        ""
      ],
      "metadata": {
        "id": "pcnIphS1HRuL"
      },
      "execution_count": null,
      "outputs": []
    },
    {
      "cell_type": "code",
      "source": [
        ""
      ],
      "metadata": {
        "id": "AhRWRhQqHRx6"
      },
      "execution_count": null,
      "outputs": []
    }
  ]
}