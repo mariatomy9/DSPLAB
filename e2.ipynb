{
 "cells": [
  {
   "cell_type": "code",
   "execution_count": 6,
   "metadata": {},
   "outputs": [],
   "source": [
    "import numpy as np\n",
    "import matplotlib.pyplot as plt"
   ]
  },
  {
   "cell_type": "code",
   "execution_count": 7,
   "metadata": {},
   "outputs": [
    {
     "data": {
      "text/plain": [
       "array([ 1.,  7., 13., 19., 20.])"
      ]
     },
     "execution_count": 7,
     "metadata": {},
     "output_type": "execute_result"
    }
   ],
   "source": [
    "def lin_convolution(x,h):\n",
    "    M= len(x)\n",
    "    N = len(h)\n",
    "       \n",
    "    if M!=N:\n",
    "        if M>N:\n",
    "            h= np.append(h,np.zeros(M-N))   \n",
    "        else :\n",
    "            x = np.append(x,np.zeros(N-M))\n",
    "    K= max(N,M)\n",
    "    y= np.zeros(N+M-1)\n",
    "        \n",
    "    for i in range(len(y)):\n",
    "      if i<M:\n",
    "        for j in range(i+1):\n",
    "              y[i]+=x[j]*h[i-j]\n",
    "      elif i>=M:\n",
    "        for j in range(K-1,i-K,-1):\n",
    "              y[i]+=x[j]*h[i-j]\n",
    "        \n",
    "    return y[:N+M-1]\n",
    "\n",
    "x=np.array([1,2,3,4])\n",
    "h = np.array([1,5])\n",
    "lin_convolution(x,h)"
   ]
  },
  {
   "cell_type": "code",
   "execution_count": 8,
   "metadata": {},
   "outputs": [
    {
     "data": {
      "image/png": "[encoded data removed]",
      "text/plain": [
       "<Figure size 720x720 with 3 Axes>"
      ]
     },
     "metadata": {
      "needs_background": "light"
     },
     "output_type": "display_data"
    }
   ],
   "source": [
    "import numpy as np\n",
    "import matplotlib.pyplot as plt\n",
    "def lin_convolution(x,h):\n",
    "    M= len(x)\n",
    "    N = len(h)\n",
    "       \n",
    "    if M!=N:\n",
    "        if M>N:\n",
    "            h= np.append(h,np.zeros(M-N))   \n",
    "        else :\n",
    "            x = np.append(x,np.zeros(N-M))\n",
    "    K= max(N,M)\n",
    "    y= np.zeros(N+M-1)\n",
    "        \n",
    "    for i in range(len(y)):\n",
    "      if i<M:\n",
    "        for j in range(i+1):\n",
    "              y[i]+=x[j]*h[i-j]\n",
    "      elif i>=M:\n",
    "        for j in range(K-1,i-K,-1):\n",
    "              y[i]+=x[j]*h[i-j]\n",
    "        \n",
    "    return y[:N+M-1]\n",
    "\n",
    "x=np.array([1,2,3,4])\n",
    "h = np.array([1,5])\n",
    "lin_convolution(x,h)\n",
    "fig, axs = plt.subplots(3, figsize=(10,10))\n",
    "axs[0].stem(x, use_line_collection = True)\n",
    "axs[0].set_title(\"x\")\n",
    "axs[0].grid(True)\n",
    "axs[1].stem(h, use_line_collection = True)\n",
    "axs[1].set_title(\"h\")\n",
    "axs[1].grid(True)\n",
    "axs[2].stem(lin_convolution(x,h), use_line_collection = True)\n",
    "axs[2].set_title(\"linear convolution\")\n",
    "axs[2].grid(True)\n",
    "plt.subplots_adjust(hspace=0.4)\n",
    "#plt.show()\n",
    "plt.savefig('e2_linear_convolve.pdf')"
   ]
  }
 ],
 "metadata": {
  "interpreter": {
   "hash": "6b19870d387cdc17c9936e766bec66c1df206e4fd89a621c2d74d2ba4986625e"
  },
  "kernelspec": {
   "display_name": "Python 3.8.3 64-bit ('base': conda)",
   "language": "python",
   "name": "python3"
  },
  "language_info": {
   "codemirror_mode": {
    "name": "ipython",
    "version": 3
   },
   "file_extension": ".py",
   "mimetype": "text/x-python",
   "name": "python",
   "nbconvert_exporter": "python",
   "pygments_lexer": "ipython3",
   "version": "3.8.3"
  },
  "orig_nbformat": 4
 },
 "nbformat": 4,
 "nbformat_minor": 2
}
