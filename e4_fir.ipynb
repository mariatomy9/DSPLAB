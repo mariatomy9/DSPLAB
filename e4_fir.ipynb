{
 "cells": [
  {
   "cell_type": "code",
   "execution_count": 1,
   "metadata": {},
   "outputs": [
    {
     "name": "stderr",
     "output_type": "stream",
     "text": [
      "<ipython-input-1-b0abd26b0d49>:50: UserWarning: In Matplotlib 3.3 individual lines on a stem plot will be added as a LineCollection instead of individual lines. This significantly improves the performance of a stem plot. To remove this warning and switch to the new behaviour, set the \"use_line_collection\" keyword argument to True.\n",
      "  plt.stem(freq, abs(X), 'b', \\\n",
      "<ipython-input-1-b0abd26b0d49>:62: UserWarning: In Matplotlib 3.3 individual lines on a stem plot will be added as a LineCollection instead of individual lines. This significantly improves the performance of a stem plot. To remove this warning and switch to the new behaviour, set the \"use_line_collection\" keyword argument to True.\n",
      "  plt.stem(freq, abs(Y), 'b', \\\n"
     ]
    },
    {
     "data": {
      "image/png": "[encoded data removed]",
      "text/plain": [
       "<Figure size 864x432 with 2 Axes>"
      ]
     },
     "metadata": {
      "needs_background": "light"
     },
     "output_type": "display_data"
    }
   ],
   "source": [
    "import numpy as np\n",
    "import matplotlib.pyplot as plt\n",
    "from scipy.fft import fft, ifft\n",
    "\n",
    "def sinc_filter(M, fc):\n",
    "\t\"\"\"Return an M + 1 point symmetric point sinc kernel with normalised cut-off \n",
    "    \t\tfrequency fc 0->0.5.\"\"\"\n",
    "\tif M%2:\n",
    "\t\traise Exception('M must be odd')\n",
    "\treturn np.sinc(2*fc*(np.arange(M + 1) - M/2))\n",
    "\n",
    "def hamming(M):\n",
    "\t\"\"\"Return an M + 1 point symmetric hamming window.\"\"\"\n",
    "\tif M%2:\n",
    "\t\traise Exception('M must be odd')\n",
    "\treturn 0.54 - 0.46*np.cos(2*np.pi*np.arange(M + 1)/M)\n",
    "\n",
    "def build_filter(M, fc, window=None):\n",
    "\t\"\"\"Construct filter using the windowing method for filter parameters M\n",
    "\tnumber of taps, cut-off frequency fc and window. Window defaults to None \n",
    "\ti.e. a rectangular window.\"\"\"\n",
    "\tif window is None:\n",
    "\t\th = sinc_filter(M, fc)\n",
    "\telse:\n",
    "\t\th = sinc_filter(M, fc)*window(M)\n",
    "\treturn h/h.sum()\n",
    "\n",
    "f0 = 20 #20Hz\n",
    "ts = 0.01 # i.e. sampling frequency is 1/ts = 100Hz\n",
    "sr = 1/ts\n",
    "x = np.arange(-10, 10, ts)\n",
    "signal = (np.cos(2*np.pi*f0*x) + np.sin(2*np.pi*2*f0*x) + \n",
    "                np.cos(2*np.pi*0.5*f0*x) + np.cos(2*np.pi*1.5*f0*x))\n",
    "\n",
    "#build up some filters\n",
    "#Low pass\n",
    "M = 100 #number of taps in filter\n",
    "fc = 0.25 #i.e. normalised cutoff frequency 1/4 of sampling rate i.e. 25Hz\n",
    "ham_lp = build_filter(M, fc, window=hamming)\n",
    "y_ham = np.convolve(signal, ham_lp)\n",
    "\n",
    "X = fft(signal)\n",
    "Nx = len(X)\n",
    "n = np.arange(Nx)\n",
    "T = Nx/sr\n",
    "freq = n/T \n",
    "\n",
    "plt.figure(figsize = (12, 6))\n",
    "plt.subplot(121)\n",
    "plt.stem(freq, abs(X), 'b', \\\n",
    "         markerfmt=\" \", basefmt=\"-b\")\n",
    "plt.xlabel('Freq (Hz)')\n",
    "plt.ylabel('FFT Amplitude of Input |X(freq)|')\n",
    "\n",
    "Y=fft(y_ham)\n",
    "Ny = len(Y)\n",
    "n = np.arange(Ny)\n",
    "T = Ny/sr\n",
    "freq = n/T \n",
    "\n",
    "plt.subplot(122)\n",
    "plt.stem(freq, abs(Y), 'b', \\\n",
    "         markerfmt=\" \", basefmt=\"-b\")\n",
    "plt.xlabel('Freq (Hz)')\n",
    "plt.ylabel('FFT Amplitude of Output |Y(freq)|')\n",
    "plt.tight_layout()\n",
    "plt.show()\n"
   ]
  },
  {
   "cell_type": "code",
   "execution_count": null,
   "metadata": {},
   "outputs": [],
   "source": []
  }
 ],
 "metadata": {
  "interpreter": {
   "hash": "6b19870d387cdc17c9936e766bec66c1df206e4fd89a621c2d74d2ba4986625e"
  },
  "kernelspec": {
   "display_name": "Python 3.8.3 ('base')",
   "language": "python",
   "name": "python3"
  },
  "language_info": {
   "codemirror_mode": {
    "name": "ipython",
    "version": 3
   },
   "file_extension": ".py",
   "mimetype": "text/x-python",
   "name": "python",
   "nbconvert_exporter": "python",
   "pygments_lexer": "ipython3",
   "version": "3.8.3"
  },
  "orig_nbformat": 4
 },
 "nbformat": 4,
 "nbformat_minor": 2
}
